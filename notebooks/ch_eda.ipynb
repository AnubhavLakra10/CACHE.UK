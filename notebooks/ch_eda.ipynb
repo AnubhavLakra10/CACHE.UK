{
 "cells": [
  {
   "cell_type": "markdown",
   "id": "0cc1a7ab",
   "metadata": {},
   "source": [
    "# Companies House EDA"
   ]
  },
  {
   "cell_type": "code",
   "execution_count": 6,
   "id": "a25c3e49",
   "metadata": {},
   "outputs": [],
   "source": [
    "from pathlib import Path\n",
    "import zipfile\n",
    "import pandas as pd\n",
    "import matplotlib.pyplot as plt\n",
    "RAW_DIR = Path(\"../data/raw/ch\")"
   ]
  },
  {
   "cell_type": "code",
   "execution_count": 7,
   "id": "2f60bcc7",
   "metadata": {},
   "outputs": [],
   "source": [
    "def load_all_parts(raw_dir: Path) -> pd.DataFrame:\n",
    "    frames = []\n",
    "    for zip_path in sorted(raw_dir.glob(\"*.zip\")):\n",
    "        with zipfile.ZipFile(zip_path) as zf:\n",
    "            csv_names = [n for n in zf.namelist() if n.endswith(\".csv\")]\n",
    "            if not csv_names:\n",
    "                continue\n",
    "            with zf.open(csv_names[0]) as f:\n",
    "                frames.append(pd.read_csv(f, dtype=str, low_memory=False))\n",
    "    if frames:\n",
    "        return pd.concat(frames, ignore_index=True)\n",
    "    return pd.DataFrame()"
   ]
  },
  {
   "cell_type": "code",
   "execution_count": 8,
   "id": "95fc5dea",
   "metadata": {},
   "outputs": [
    {
     "name": "stdout",
     "output_type": "stream",
     "text": [
      "Total records: 5,655,315\n"
     ]
    }
   ],
   "source": [
    "df = load_all_parts(RAW_DIR)\n",
    "print(f\"Total records: {len(df):,}\")"
   ]
  },
  {
   "cell_type": "code",
   "execution_count": null,
   "id": "e8fbd167",
   "metadata": {},
   "outputs": [],
   "source": [
    "if \"IncorporationDate\" in df.columns:\n",
    "    dates = pd.to_datetime(df[\"IncorporationDate\"], errors=\"coerce\")\n",
    "    print(\"Incorporation date range:\", dates.min(), \"to\", dates.max())\n",
    "    dates.value_counts().sort_index().plot()\n",
    "    plt.title(\"Company incorporations over time\")\n",
    "    plt.xlabel(\"Date\")\n",
    "    plt.ylabel(\"Count\")\n",
    "    plt.tight_layout()"
   ]
  },
  {
   "cell_type": "code",
   "execution_count": null,
   "id": "88c356d5",
   "metadata": {},
   "outputs": [],
   "source": [
    "if \"CompanyName\" in df.columns:\n",
    "    name_lengths = df[\"CompanyName\"].astype(str).str.len()\n",
    "    name_lengths.hist(bins=50)\n",
    "    plt.title(\"Company name length distribution\")\n",
    "    plt.xlabel(\"Length\")\n",
    "    plt.ylabel(\"Frequency\")\n",
    "    plt.tight_layout()"
   ]
  }
 ],
 "metadata": {
  "language_info": {
   "name": "python"
  }
 },
 "nbformat": 4,
 "nbformat_minor": 5
}
